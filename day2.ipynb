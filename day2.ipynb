{
 "cells": [
  {
   "cell_type": "code",
   "execution_count": 10,
   "metadata": {},
   "outputs": [
    {
     "data": {
      "text/plain": [
       "'/GPU:0'"
      ]
     },
     "execution_count": 10,
     "metadata": {},
     "output_type": "execute_result"
    }
   ],
   "source": [
    "%reset\n",
    "import tensorflow as tf\n",
    "import time\n",
    "tf.device('/GPU:0')._device_name"
   ]
  },
  {
   "cell_type": "code",
   "execution_count": 11,
   "metadata": {},
   "outputs": [
    {
     "name": "stdout",
     "output_type": "stream",
     "text": [
      "Tiempo de multiplicación en CPU: 7.976468563079834 segundos\n"
     ]
    }
   ],
   "source": [
    "# Crear matrices de ejemplo\n",
    "shape = (10000, 10000)\n",
    "matrix_a = tf.random.normal(shape=shape)\n",
    "matrix_b = tf.random.normal(shape=shape)\n",
    "\n",
    "# Multiplicación en CPU\n",
    "start_time = time.time()\n",
    "with tf.device('/CPU:0'):\n",
    "    result_cpu = tf.matmul(matrix_a, matrix_b)\n",
    "    result_cpu = tf.sin(result_cpu)\n",
    "    result_cpu = tf.cos(result_cpu)\n",
    "    result_cpu = tf.tan(result_cpu)\n",
    "    result_cpu = tf.tan(result_cpu)\n",
    "    result_cpu = tf.tan(result_cpu)\n",
    "    result_cpu = tf.tan(result_cpu)\n",
    "end_time = time.time()\n",
    "cpu_time = end_time - start_time\n",
    "print(f\"Tiempo de multiplicación en CPU: {cpu_time} segundos\")\n"
   ]
  },
  {
   "cell_type": "code",
   "execution_count": 12,
   "metadata": {},
   "outputs": [
    {
     "name": "stdout",
     "output_type": "stream",
     "text": [
      "Tiempo de multiplicación en GPU: 0.1845414638519287 segundos\n"
     ]
    }
   ],
   "source": [
    "# Multiplicación en GPU (si está disponible)\n",
    "if tf.config.experimental.list_physical_devices('GPU'):\n",
    "    start_time = time.time()\n",
    "    with tf.device('/GPU:0'):\n",
    "        result_gpu = tf.matmul(matrix_a, matrix_b)\n",
    "        result_cpu = tf.sin(result_cpu)\n",
    "        result_cpu = tf.cos(result_cpu)\n",
    "        result_cpu = tf.tan(result_cpu)\n",
    "        result_cpu = tf.tan(result_cpu)\n",
    "        result_cpu = tf.tan(result_cpu)\n",
    "        result_cpu = tf.tan(result_cpu)\n",
    "\n",
    "    end_time = time.time()\n",
    "    gpu_time = end_time - start_time\n",
    "    print(f\"Tiempo de multiplicación en GPU: {gpu_time} segundos\")\n",
    "else:\n",
    "    print(\"No se encontraron GPU disponibles.\")"
   ]
  },
  {
   "cell_type": "code",
   "execution_count": 13,
   "metadata": {},
   "outputs": [
    {
     "name": "stdout",
     "output_type": "stream",
     "text": [
      "43.22317812261393\n"
     ]
    }
   ],
   "source": [
    "print(cpu_time/gpu_time)"
   ]
  }
 ],
 "metadata": {
  "kernelspec": {
   "display_name": "tf",
   "language": "python",
   "name": "python3"
  },
  "language_info": {
   "codemirror_mode": {
    "name": "ipython",
    "version": 3
   },
   "file_extension": ".py",
   "mimetype": "text/x-python",
   "name": "python",
   "nbconvert_exporter": "python",
   "pygments_lexer": "ipython3",
   "version": "3.9.18"
  }
 },
 "nbformat": 4,
 "nbformat_minor": 2
}
